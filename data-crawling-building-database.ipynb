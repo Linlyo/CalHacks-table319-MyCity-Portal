{
 "cells": [
  {
   "cell_type": "code",
   "execution_count": 91,
   "id": "8d1c8276",
   "metadata": {},
   "outputs": [],
   "source": [
    "# install these if they aren't in my enviornment yet\n",
    "# !pip install --upgrade PyPDF2\n",
    "# !pip install feedparser\n",
    "# !pip install anthropic PyPDF2 python-dotenv\n",
    "# !pip install webdriver-manager\n",
    "# !pip install pymongo\n",
    "# !pip install fastapi uvicorn"
   ]
  },
  {
   "cell_type": "code",
   "execution_count": 269,
   "id": "3b1338cd",
   "metadata": {},
   "outputs": [],
   "source": [
    "import requests\n",
    "import json\n",
    "import feedparser # for parsing RSS feeds\n",
    "import os\n",
    "import PyPDF2\n",
    "from anthropic import Anthropic\n",
    "from dotenv import load_dotenv\n",
    "import time\n",
    "from pymongo import MongoClient\n",
    "from datetime import datetime\n",
    "from fastapi import FastAPI\n",
    "from fastapi.middleware.cors import CORSMiddleware\n",
    "import sqlite3\n",
    "from typing import Optional\n"
   ]
  },
  {
   "cell_type": "code",
   "execution_count": 131,
   "id": "c4e86c1f",
   "metadata": {},
   "outputs": [
    {
     "data": {
      "text/plain": [
       "True"
      ]
     },
     "execution_count": 131,
     "metadata": {},
     "output_type": "execute_result"
    }
   ],
   "source": [
    "load_dotenv()"
   ]
  },
  {
   "cell_type": "code",
   "execution_count": 136,
   "id": "ed3db173",
   "metadata": {},
   "outputs": [],
   "source": [
    "ANTHKEY=os.getenv(\"ANTHROPIC_API_KEY\")"
   ]
  },
  {
   "cell_type": "code",
   "execution_count": 139,
   "id": "16f6c111",
   "metadata": {},
   "outputs": [],
   "source": [
    "client = Anthropic(api_key=ANTHKEY)"
   ]
  },
  {
   "cell_type": "markdown",
   "id": "18cdac05",
   "metadata": {},
   "source": [
    "## 511 traffic data"
   ]
  },
  {
   "cell_type": "code",
   "execution_count": 120,
   "id": "08d340e5",
   "metadata": {},
   "outputs": [],
   "source": [
    "MY511KEY = os.getenv(\"MY511TOKEN\")"
   ]
  },
  {
   "cell_type": "code",
   "execution_count": 80,
   "id": "ceed3253",
   "metadata": {},
   "outputs": [],
   "source": [
    "url_traffic = f\"http://api.511.org/traffic/events?api_key={MY511KEY}\""
   ]
  },
  {
   "cell_type": "code",
   "execution_count": 81,
   "id": "eb793225",
   "metadata": {},
   "outputs": [],
   "source": [
    "response = requests.get(url_traffic)"
   ]
  },
  {
   "cell_type": "code",
   "execution_count": 82,
   "id": "60ca49e4",
   "metadata": {},
   "outputs": [],
   "source": [
    "traffic_text = response.text.lstrip(\"\\ufeff\")\n",
    "traffic_json = json.loads(traffic_text)"
   ]
  },
  {
   "cell_type": "code",
   "execution_count": 83,
   "id": "ce455719",
   "metadata": {},
   "outputs": [],
   "source": [
    "# filters for Fremont related information\n",
    "fremont_traffic_json = [i for i in traffic_json[\"events\"] if \"(Fremont)\" in i[\"headline\"]]"
   ]
  },
  {
   "cell_type": "markdown",
   "id": "ec307f64",
   "metadata": {},
   "source": [
    "When receive this piece of data, you should summarize it into an accurate text that's suitable for a local news app for the residents of Fremont. When the 'severity' category is 'Major', you should add the text [Major] to be the first line before your summary.\n",
    "\n",
    "\n",
    "This is the input you will receive:\n",
    "[{'url': '/traffic/events/511.org/1359085',\n",
    "  'jurisdiction_url': 'http://api.511.org/jurisdictions/',\n",
    "  'id': '511.org/1359085',\n",
    "  'status': 'ACTIVE',\n",
    "  'headline': 'CHP : High winds on CA-84 Eastbound and Westbound at Dumbarton Bridge - Midspan (Fremont). Lanes affected. Traffic advisory in effect.',\n",
    "  'event_type': 'INCIDENT',\n",
    "  'event_subtypes': ['High winds'],\n",
    "  'severity': 'Major',\n",
    "  'created': '2025-06-21T00:03Z',\n",
    "  'updated': '2025-06-22T03:07Z',\n",
    "  'areas': [{'name': 'Alameda',\n",
    "    'id': 5322745,\n",
    "    'url': 'http://geonames.org/5322745/'}],\n",
    "  'geography': {'type': 'Point',\n",
    "   'crs': {'type': 'name',\n",
    "    'properties': {'name': 'urn:ogc:def:crs:EPSG::4326'}},\n",
    "   'coordinates': [-122.114231495701, 37.5088050423377]},\n",
    "  '+source_type': 'CHP',\n",
    "  '+source_id': 'TM-MTC-1361218',\n",
    "  'roads': [{'name': 'CA-84 E',\n",
    "    'from': 'Dumbarton Bridge - Midspan',\n",
    "    'direction': 'Eastbound and Westbound',\n",
    "    'state': 'SOME_LANES_CLOSED',\n",
    "    '+lane_type': 'Lanes',\n",
    "    '+lane_status': 'affected',\n",
    "    '+road_advisory': 'Traffic advisory in effect',\n",
    "    '+article': 'at'}],\n",
    "  'schedule': {'intervals': ['2025-06-21T00:03Z/']}}]\n",
    "\n",
    "Below is the desired output:\n",
    "\n",
    "[Major]\n",
    "\n",
    "High winds affecting both eastbound and westbound lanes of CA-84 at the Dumbarton Bridge midspan in Fremont. Some lanes are closed.\n",
    "The advisory has been active since June 21, still in effect today."
   ]
  },
  {
   "cell_type": "code",
   "execution_count": 142,
   "id": "f46998a4",
   "metadata": {},
   "outputs": [],
   "source": [
    "def clean_511_traffic_data(data, model=\"claude-sonnet-4-0\"):\n",
    "    \"\"\"Process 511 traffic data into news-ready text for Fremont residents\"\"\"\n",
    "    \n",
    "    traffic_prompt = \"\"\"When receive this piece of data, you should summarize it into an accurate text that's suitable for a local news app for the residents of Fremont. When the 'severity' category is 'Major', you should add the text [Major] to be the first line before your summary.\n",
    "\n",
    "This is the type and format of input you will receive: [{'url': '/traffic/events/511.org/1359085', 'jurisdiction_url': 'http://api.511.org/jurisdictions/', 'id': '511.org/1359085', 'status': 'ACTIVE', 'headline': 'CHP : High winds on CA-84 Eastbound and Westbound at Dumbarton Bridge - Midspan (Fremont). Lanes affected. Traffic advisory in effect.', 'event_type': 'INCIDENT', 'event_subtypes': ['High winds'], 'severity': 'Major', 'created': '2025-06-21T00:03Z', 'updated': '2025-06-22T03:07Z', 'areas': [{'name': 'Alameda', 'id': 5322745, 'url': 'http://geonames.org/5322745/'}], 'geography': {'type': 'Point', 'crs': {'type': 'name', 'properties': {'name': 'urn:ogc:def:crs:EPSG::4326'}}, 'coordinates': [-122.114231495701, 37.5088050423377]}, '+source_type': 'CHP', '+source_id': 'TM-MTC-1361218', 'roads': [{'name': 'CA-84 E', 'from': 'Dumbarton Bridge - Midspan', 'direction': 'Eastbound and Westbound', 'state': 'SOME_LANES_CLOSED', '+lane_type': 'Lanes', '+lane_status': 'affected', '+road_advisory': 'Traffic advisory in effect', '+article': 'at'}], 'schedule': {'intervals': ['2025-06-21T00:03Z/']}}]\n",
    "\n",
    "Below is the desired output:\n",
    "\n",
    "[Major]\n",
    "High winds affecting both eastbound and westbound lanes of CA-84 at the Dumbarton Bridge midspan in Fremont. Some lanes are closed. The advisory has been active since June 21, still in effect today.\n",
    "\n",
    "Here is the traffic data to process:\"\"\"\n",
    "    \n",
    "    full_prompt = f\"{traffic_prompt}\\n\\n{data}\"\n",
    "    \n",
    "    try:\n",
    "        response = client.messages.create(\n",
    "            model=model,\n",
    "            max_tokens=200,  # Keep it concise for news alerts\n",
    "            messages=[\n",
    "                {\"role\": \"user\", \"content\": full_prompt}\n",
    "            ]\n",
    "        )\n",
    "        return response.content[0].text\n",
    "    except Exception as e:\n",
    "        return f\"Error: {str(e)}\""
   ]
  },
  {
   "cell_type": "code",
   "execution_count": 148,
   "id": "1a274088",
   "metadata": {},
   "outputs": [],
   "source": [
    "final_traffic = []\n",
    "for i in fremont_traffic_json:\n",
    "    time = i[\"updated\"]\n",
    "    text = clean_511_traffic_data(i)\n",
    "    final_traffic.append((time, text))"
   ]
  },
  {
   "cell_type": "code",
   "execution_count": 151,
   "id": "25cf6f7c",
   "metadata": {},
   "outputs": [
    {
     "data": {
      "text/plain": [
       "[('2025-06-22T03:07Z',\n",
       "  '[Major]\\nHigh winds affecting both eastbound and westbound lanes of CA-84 at the Dumbarton Bridge midspan in Fremont. Some lanes are closed. The advisory has been active since June 21, still in effect today.')]"
      ]
     },
     "execution_count": 151,
     "metadata": {},
     "output_type": "execute_result"
    }
   ],
   "source": [
    "final_traffic"
   ]
  },
  {
   "cell_type": "markdown",
   "id": "63575c1a",
   "metadata": {},
   "source": [
    "## BART"
   ]
  },
  {
   "cell_type": "code",
   "execution_count": 41,
   "id": "f57fefa4",
   "metadata": {},
   "outputs": [],
   "source": [
    "url_bart = \"https://www.bart.gov/news/rss/rss.xml\"\n",
    "response = requests.get(url_bart)\n",
    "parsed = feedparser.parse(response.text)"
   ]
  },
  {
   "cell_type": "code",
   "execution_count": 53,
   "id": "e47349df",
   "metadata": {},
   "outputs": [],
   "source": [
    "bart_alerts_text = \"\"\n",
    "for entry in parsed.entries:\n",
    "    if \"Alert\" in entry.title:\n",
    "        bart_alerts_text += entry.title + \" \"\n",
    "        bart_alerts_text += entry.description.strip() + \" \""
   ]
  },
  {
   "cell_type": "code",
   "execution_count": 57,
   "id": "c2247583",
   "metadata": {},
   "outputs": [
    {
     "data": {
      "text/plain": [
       "'Bus Bridge Alert: free buses replace trains between Walnut Creek and Concord June 21-22  Bus Bridge Alert: free buses replace trains between Walnut Creek and Concord June 21-22 BART must replace decades old track components between Walnut Creek and Concord stations to… Bus Bridge Alert: free buses replace trains between Walnut Creek and Concord June 21-22  '"
      ]
     },
     "execution_count": 57,
     "metadata": {},
     "output_type": "execute_result"
    }
   ],
   "source": [
    "bart_alerts_text"
   ]
  },
  {
   "cell_type": "markdown",
   "id": "56cf7e7e",
   "metadata": {},
   "source": [
    "Here's a piece of text extracted from the BART official website's RSS feed. Rewrite it into something readable, clear and concise. There could be repeating sentences sometimes, so ignore duplicated information. Also ignore the names of the alert. \n",
    "\n",
    "An example: \n",
    "\n",
    "Input: \n",
    "\n",
    "'Bus Bridge Alert: free buses replace trains between Walnut Creek and Concord June 21-22  Bus Bridge Alert: free buses replace trains between Walnut Creek and Concord June 21-22 BART must replace decades old track components between Walnut Creek and Concord stations to… Bus Bridge Alert: free buses replace trains between Walnut Creek and Concord June 21-22  '\n",
    "\n",
    "Desired output:\n",
    "\n",
    "BART will replace decades-old track components between Walnut Creek and Concord stations. As a result, free buses will replace train service between the two stations on June 21–22."
   ]
  },
  {
   "cell_type": "code",
   "execution_count": 140,
   "id": "9d2745e1",
   "metadata": {},
   "outputs": [],
   "source": [
    "def clean_bart_text(text, model=\"claude-sonnet-4-0\"):\n",
    "    \"\"\"Clean and rewrite BART RSS feed text into readable format\"\"\"\n",
    "    \n",
    "    bart_prompt = \"\"\"Here's a piece of text extracted from the BART official website's RSS feed. Rewrite it into something readable, clear and concise. There could be repeating sentences sometimes, so ignore duplicated information. Also ignore the names of the alert.\n",
    "\n",
    "An example:\n",
    "Input:\n",
    "'Bus Bridge Alert: free buses replace trains between Walnut Creek and Concord June 21-22 Bus Bridge Alert: free buses replace trains between Walnut Creek and Concord June 21-22 BART must replace decades old track components between Walnut Creek and Concord stations to… Bus Bridge Alert: free buses replace trains between Walnut Creek and Concord June 21-22 '\n",
    "\n",
    "Desired output:\n",
    "BART will replace decades-old track components between Walnut Creek and Concord stations. As a result, free buses will replace train service between the two stations on June 21–22.\n",
    "\n",
    "Here is the text to clean:\"\"\"\n",
    "    \n",
    "    full_prompt = f\"{bart_prompt}\\n\\n{text}\"\n",
    "    \n",
    "    try:\n",
    "        response = client.messages.create(\n",
    "            model=model,\n",
    "            max_tokens=300,  # Reduced since output should be concise\n",
    "            messages=[\n",
    "                {\"role\": \"user\", \"content\": full_prompt}\n",
    "            ]\n",
    "        )\n",
    "        return response.content[0].text\n",
    "    except Exception as e:\n",
    "        return f\"Error: {str(e)}\""
   ]
  },
  {
   "cell_type": "code",
   "execution_count": 164,
   "id": "229eb48b",
   "metadata": {},
   "outputs": [],
   "source": [
    "now = time.localtime()\n",
    "formatted_time = time.strftime(\"%b %d, %H:%M\", now)"
   ]
  },
  {
   "cell_type": "code",
   "execution_count": 257,
   "id": "6818a216",
   "metadata": {},
   "outputs": [],
   "source": [
    "final_bart = [(formatted_time, clean_bart_text(bart_alerts_text))]"
   ]
  },
  {
   "cell_type": "code",
   "execution_count": 258,
   "id": "d9a0b71f",
   "metadata": {},
   "outputs": [
    {
     "data": {
      "text/plain": [
       "[('Jun 21, 22:29',\n",
       "  'BART will replace decades-old track components between Walnut Creek and Concord stations. As a result, free buses will replace train service between the two stations on June 21–22.')]"
      ]
     },
     "execution_count": 258,
     "metadata": {},
     "output_type": "execute_result"
    }
   ],
   "source": [
    "final_bart"
   ]
  },
  {
   "cell_type": "markdown",
   "id": "035635e7",
   "metadata": {},
   "source": [
    "## Fremont Police"
   ]
  },
  {
   "cell_type": "code",
   "execution_count": 189,
   "id": "99de1cd7",
   "metadata": {},
   "outputs": [],
   "source": [
    "# source:\n",
    "# fatal traffic collisions \n",
    "# https://www.fremontpolice.gov/about-us/transparency-portal/fatal-traffic-collisions\n",
    "# incidents of public interest\n",
    "# https://www.fremontpolice.gov/about-us/transparency-portal/incidents-of-public-interest"
   ]
  },
  {
   "cell_type": "code",
   "execution_count": 84,
   "id": "87cf4af4",
   "metadata": {},
   "outputs": [],
   "source": [
    "ANTHROPICKEY = os.getenv(\"ANTHROPIC_API_KEY\")\n",
    "client = Anthropic(api_key=os.getenv(\"ANTHROPIC_API_KEY\"))"
   ]
  },
  {
   "cell_type": "code",
   "execution_count": 94,
   "id": "44d95508",
   "metadata": {},
   "outputs": [],
   "source": [
    "def extract_text_from_pdf(pdf_path):\n",
    "    text = \"\"\n",
    "    with open(pdf_path, 'rb') as file:\n",
    "        pdf_reader = PyPDF2.PdfFileReader(file)\n",
    "        for page_num in range(pdf_reader.numPages):\n",
    "            text += pdf_reader.getPage(page_num).extractText() + \"\\n\"\n",
    "    return text"
   ]
  },
  {
   "cell_type": "code",
   "execution_count": 86,
   "id": "930fc0bb",
   "metadata": {},
   "outputs": [],
   "source": [
    "def get_all_paths(root_folder):\n",
    "    paths = []\n",
    "    for dirpath, dirnames, filenames in os.walk(root_folder):\n",
    "        for name in dirnames + filenames:\n",
    "            full_path = os.path.join(dirpath, name)\n",
    "            paths.append(full_path)\n",
    "    return paths"
   ]
  },
  {
   "cell_type": "code",
   "execution_count": 96,
   "id": "bce64c02",
   "metadata": {},
   "outputs": [],
   "source": [
    "all_police_pdfs = get_all_paths(\"pdfs/police\")\n",
    "police_releases = []\n",
    "for path in all_police_pdfs:\n",
    "    police_releases.append(extract_text_from_pdf(path))"
   ]
  },
  {
   "cell_type": "markdown",
   "id": "f43b04e8",
   "metadata": {},
   "source": [
    "Summarize this piece of text from an official news release into short and concise language suitable for publication as a brief news on a local news app. Lead with what happened when. Ignore sentences that relate to the Police are asking for witness information.\n",
    "\n",
    "This is a good example:\n",
    "\n",
    "A 79-year-old Fremont resident died several hours after a solo vehicle crash in the 40500 block of Albrae Street, late February 24.\n",
    "\n",
    "The driver was traveling southbound when the vehicle struck a curb, crossed a grassy area, and collided with a tree. The driver, who was not wearing a seatbelt, sustained major injuries including significant head trauma and was transported to a hospital where they later died. A passenger in the vehicle was wearing a seatbelt and was not injured.\n",
    "\n",
    "The cause of the collision remains under investigation. This marks Fremont's second fatal traffic collision of 2025. "
   ]
  },
  {
   "cell_type": "code",
   "execution_count": 172,
   "id": "17c5c183",
   "metadata": {},
   "outputs": [],
   "source": [
    "def clean_police_text(text, model=\"claude-sonnet-4-0\"):\n",
    "    \"\"\"Clean and rewrite police press release text into readable format\"\"\"\n",
    "    \n",
    "    bart_prompt = \"\"\"Summarize this piece of text from an official police news release pdf into short and concise language suitable for publication as a brief news on a local news app. Lead with what happened when. Ignore sentences that relate to the Police are asking for witness information. The first line of your output should be the date of release at the very top of the page, following \"FOR IMMEDIATE RELEASE\". The actual summarization starts on the second line.\n",
    "\n",
    "This is a sample input data that you will be receiving:\n",
    "\n",
    "        \\n      FOR IMMEDIATE RELEASE: \\nFebruary \\n22, 2023  Incident:\\n Charges Filed in \\nHomicide \\nInvestigation \\n Date of Incident\\n: February 16, 2023\\n Location:\\n Area of \\nStevenson\\n Boulevard \\nand\\n Paseo Padre Parkway\\n Media Contact:\\n Sgt\\n. Kim Macdonald\\n, \\nFremontPDPIO@fremont.gov\\n   Murder \\nCharge Filed Again\\nst Suspect In \\nHomicide Investigation\\n   \\nOn February 16, 2023, at \\napproximately 4:10 p.m., a passerby contacted Fremont Police \\nDepartment after witnessing an altercation occur between two men near Stevenson Boulevard and \\n\\nPaseo Padre Parkway. Officers immediately responded, and a witness intervened before officers \\n\\narrived\\n on the scene. Upon arrival, officers located a male lying on the ground suffering from \\nmultiple stab wounds. Despite lifesaving efforts by members of Fremont PD and Fremont Fire, the \\n\\nvictim succumbed to his injuries. The forty\\n-eight\\n-year\\n-old male victim w\\nas pronounced deceased at \\nthe scene.\\n    \\nThe suspect, Eddie Moses (40 years old, of Fremont), was located in the area of the homicide by \\n\\nFremont PD officers and placed under arrest. Fremont Police Department™s Investigations Unit \\n\\nresponded and took over the\\n homicide investigation. There were several witnesses to the \\naltercation, and the edged weapon used in the homicide was located and collected.\\n    The case was presented to the Alameda County District Attorney's Office. Moses was subsequently \\n\\ncharged with P\\nenal Code 187(a) \\nŒ murder, as well as a weapons allegation and sentencing \\nenhancement. Moses remains in custody at Santa Rita Jail.\\n    If you have information regarding this homicide investigation, please contact Detective Brent \\n\\nButcher at 510\\n-790\\n-6900, or\\n email\\n bbutcher@fremont.gov\\n.   - # # # \\n- Police Department\\n Press Release\\n \\n\n",
    "\n",
    "This is a desired output example:\n",
    "\n",
    "April 8\n",
    "\n",
    "A 79-year-old Fremont resident died several hours after a solo vehicle crash in the 40500 block of Albrae Street, late February 24.\n",
    "\n",
    "The driver was traveling southbound when the vehicle struck a curb, crossed a grassy area, and collided with a tree. The driver, who was not wearing a seatbelt, sustained major injuries including significant head trauma and was transported to a hospital where they later died. A passenger in the vehicle was wearing a seatbelt and was not injured.\n",
    "\n",
    "The cause of the collision remains under investigation. This marks Fremont's second fatal traffic collision of 2025.\n",
    "\n",
    "Here is the text to clean:\"\"\"\n",
    "    \n",
    "    full_prompt = f\"{bart_prompt}\\n\\n{text}\"\n",
    "    \n",
    "    try:\n",
    "        response = client.messages.create(\n",
    "            model=model,\n",
    "            max_tokens=300,  # Reduced since output should be concise\n",
    "            messages=[\n",
    "                {\"role\": \"user\", \"content\": full_prompt}\n",
    "            ]\n",
    "        )\n",
    "        return response.content[0].text\n",
    "    except Exception as e:\n",
    "        return f\"Error: {str(e)}\""
   ]
  },
  {
   "cell_type": "code",
   "execution_count": 175,
   "id": "73cb11de",
   "metadata": {},
   "outputs": [],
   "source": [
    "final_police = []\n",
    "for i in police_releases:\n",
    "    final_police.append(clean_police_text(i))"
   ]
  },
  {
   "cell_type": "code",
   "execution_count": 183,
   "id": "413ad329",
   "metadata": {},
   "outputs": [],
   "source": [
    "time = final_police[2].split(\"\\n\\n\")[0]"
   ]
  },
  {
   "cell_type": "code",
   "execution_count": 185,
   "id": "3a71e10b",
   "metadata": {},
   "outputs": [
    {
     "data": {
      "text/plain": [
       "\"A 79-year-old Fremont resident died several hours after a solo vehicle crash in the 40500 block of Albrae Street, February 24 at approximately 6:40 p.m.\\n\\nThe driver was traveling southbound when the vehicle struck a curb, crossed a grassy area, and collided with a tree. The driver, who was not wearing a seatbelt, sustained major injuries including significant head trauma and was transported to a hospital where they later died. A passenger in the vehicle was wearing a seatbelt and was not injured.\\n\\nThe cause of the collision remains under investigation. This marks Fremont's second fatal traffic collision of 2025.\""
      ]
     },
     "execution_count": 185,
     "metadata": {},
     "output_type": "execute_result"
    }
   ],
   "source": [
    "final_police[2]"
   ]
  },
  {
   "cell_type": "code",
   "execution_count": 186,
   "id": "c64aedb5",
   "metadata": {},
   "outputs": [],
   "source": [
    "final_police_pr = []\n",
    "for text in final_police:\n",
    "    time = text.split(\"\\n\")[0]\n",
    "    text = text.replace(time+\"\\n\\n\", \"\")\n",
    "    final_police_pr.append((time, text))"
   ]
  },
  {
   "cell_type": "markdown",
   "id": "70faac87",
   "metadata": {},
   "source": [
    "## City council"
   ]
  },
  {
   "cell_type": "code",
   "execution_count": 199,
   "id": "cf6b8bc8",
   "metadata": {},
   "outputs": [
    {
     "data": {
      "text/plain": [
       "['20250603', 'CC', 'Minutes.pdf']"
      ]
     },
     "execution_count": 199,
     "metadata": {},
     "output_type": "execute_result"
    }
   ],
   "source": [
    "all_city_pdfs[0]"
   ]
  },
  {
   "cell_type": "code",
   "execution_count": 202,
   "id": "325f006e",
   "metadata": {},
   "outputs": [],
   "source": [
    "# source: https://www.fremont.gov/government/agenda-center\n",
    "all_city_pdfs = get_all_paths(\"pdfs/city-council\")\n",
    "city_minutes = []\n",
    "for path in all_city_pdfs:\n",
    "    text = extract_text_from_pdf(path)\n",
    "    time = path.rsplit(\"/\")[-1].split(\" \")[0]\n",
    "    city_minutes.append((time, text))"
   ]
  },
  {
   "cell_type": "code",
   "execution_count": 236,
   "id": "2e13c6c0",
   "metadata": {},
   "outputs": [],
   "source": [
    "def clean_city_text(text, model=\"claude-sonnet-4-0\"):\n",
    "    \"\"\"Clean and rewrite city council meeting text into readable format\"\"\"\n",
    "    \n",
    "    city_prompt = \"\"\"Summarize the main points of text from the minutes of a city council meeting. Lead with what main actions were taken, and then note at the end of your first paragraph when and what meeting happened. The text you receive is extracted from the lengthy minutes published by the city, extracted from pdfs. Your goal is to identify the items that practically impact the local residents, and state in clear, concise and understandable language on what was discussed and how significant it is to people's life. If there's a big dollar amount named, include the number to make the effect more tangible. Ignore political rhetorics and minor items that are pure formality or administrative, for example, unimportant staff changes. Once the main ideas are summarized in the lead paragraph, the remaining items can be listed as bullet points, but make sure to concise. After listing key items approved, you should also have a list of key items rejected if there is any. Do not state the obvious and do not repeat yourself. Whenever noting a date, ignore the year unless it's not this year. You don't need to list any bullets if no items were approved or rejected. \n",
    "\n",
    "Below is a sample output:\n",
    "\n",
    "The Fremont City Council approved several major spending items at their May 20 regular meeting. All items on the agenda were approved unanimously.\n",
    "\n",
    "Key Items Approved:\n",
    "\n",
    "• Road Repairs: $4.986 million contract for the 2025 Cape and Slurry Seal Project to maintain city streets\n",
    "• Parkland Purchase: $800,000 to buy property at Fremont Boulevard & St. Leonards Way for parks\n",
    "• Street Maintenance: $1.03 million annually for 7-year landscape maintenance contract for city streetscapes\n",
    "• Equipment Purchases: $836,000 for two new street sweepers; $245,000 for Wi-Fi upgrades at city facilities  \n",
    "• Fuel Costs: $1.463 million annual contract for gasoline and diesel fuel for city vehicles\n",
    "• Transportation Services: $510,000 annually for Lyft ride-hailing services and $120,000 for call center services for seniors and disabled residents through 2028\n",
    "• Youth Programs: $726,000 over two years for at-risk youth development programs with Alameda County\n",
    "• Child Services: $166,000 over two years for child abuse prevention and treatment services\n",
    "• Mental Health: $128,669 grant for Mobile Evaluation Team mental health staff\n",
    "• Public Art: Up to $464,000 for artwork at the new Central Park Community Center\n",
    "• Tenant Protection: New ordinances expanding tenant relocation assistance and requiring inspection of exterior elevated building elements like balconies and decks\n",
    "\n",
    "Below is another sample output:\n",
    "\n",
    "The Fremont City Council held a closed-session special meeting on June 3 for confidential discussions about labor contract negotiations with multiple city employee unions and pending litigation.\n",
    "\n",
    "Key Items Discussed:\n",
    "\n",
    "• Labor Negotiations: City representatives met to discuss contract terms with nine different employee unions including police, fire, engineers, and general city workers\n",
    "• Legal Matter: Discussion of pending lawsuit Miselsi Johana Membreno Castro v. City of Fremont filed in 2024\n",
    "\n",
    "Below is the text to base on for your summarization:\"\"\"\n",
    "    \n",
    "    full_prompt = f\"{city_prompt}\\n\\n{text}\"\n",
    "    \n",
    "    try:\n",
    "        response = client.messages.create(\n",
    "            model=model,\n",
    "            max_tokens=600,\n",
    "            messages=[\n",
    "                {\"role\": \"user\", \"content\": full_prompt}\n",
    "            ]\n",
    "        )\n",
    "        return response.content[0].text\n",
    "    except Exception as e:\n",
    "        return f\"Error: {str(e)}\""
   ]
  },
  {
   "cell_type": "code",
   "execution_count": 237,
   "id": "53a08758",
   "metadata": {},
   "outputs": [],
   "source": [
    "text = city_minutes[3][1]"
   ]
  },
  {
   "cell_type": "code",
   "execution_count": 238,
   "id": "52b0a798",
   "metadata": {},
   "outputs": [],
   "source": [
    "res = clean_city_text(text)"
   ]
  },
  {
   "cell_type": "code",
   "execution_count": 239,
   "id": "69c3bbc6",
   "metadata": {},
   "outputs": [],
   "source": [
    "final_city_notes = []\n",
    "for time, text in city_minutes:\n",
    "    text = clean_city_text(text)\n",
    "    final_city_notes.append((time, text))"
   ]
  },
  {
   "cell_type": "markdown",
   "id": "6c8e7a8d",
   "metadata": {},
   "source": [
    "## Build traffic alerts into database"
   ]
  },
  {
   "cell_type": "code",
   "execution_count": 259,
   "id": "1130696b",
   "metadata": {},
   "outputs": [
    {
     "data": {
      "text/plain": [
       "[('Jun 21, 22:29',\n",
       "  'BART will replace decades-old track components between Walnut Creek and Concord stations. As a result, free buses will replace train service between the two stations on June 21–22.')]"
      ]
     },
     "execution_count": 259,
     "metadata": {},
     "output_type": "execute_result"
    }
   ],
   "source": [
    "final_bart"
   ]
  },
  {
   "cell_type": "code",
   "execution_count": 275,
   "id": "cdb655b7",
   "metadata": {},
   "outputs": [
    {
     "name": "stdout",
     "output_type": "stream",
     "text": [
      "Database created\n"
     ]
    },
    {
     "data": {
      "text/plain": [
       "<sqlite3.Cursor at 0x7ff4d07b3110>"
      ]
     },
     "execution_count": 275,
     "metadata": {},
     "output_type": "execute_result"
    }
   ],
   "source": [
    "conn = sqlite3.connect('city_locals.db')\n",
    "cursor = conn.cursor()\n",
    "\n",
    "cursor.execute('''\n",
    "CREATE TABLE alerts (\n",
    "    id INTEGER PRIMARY KEY AUTOINCREMENT,\n",
    "    timestamp TEXT NOT NULL,\n",
    "    content TEXT NOT NULL,\n",
    "    alert_type TEXT NOT NULL,\n",
    "    is_major BOOLEAN DEFAULT 0,\n",
    "    is_active BOOLEAN DEFAULT 1\n",
    ");\n",
    "''')\n",
    "\n",
    "# Create indexes\n",
    "cursor.execute('CREATE INDEX idx_alerts_active ON alerts(is_active);')\n",
    "cursor.execute('CREATE INDEX idx_alerts_type ON alerts(alert_type);')\n",
    "cursor.execute('CREATE INDEX idx_alerts_major ON alerts(is_major);')\n",
    "\n",
    "conn.commit()\n",
    "print(\"Database created\")\n",
    "\n",
    "# Insert BART data\n",
    "bart_data = ('Jun 21, 22:29', \n",
    "             'BART will replace decades-old track components between Walnut Creek and Concord stations. As a result, free buses will replace train service between the two stations on June 21–22.',\n",
    "             'transit', 0, 1)\n",
    "\n",
    "# Insert traffic data  \n",
    "traffic_data = ('2025-06-22T03:07Z',\n",
    "                'High winds affecting both eastbound and westbound lanes of CA-84 at the Dumbarton Bridge midspan in Fremont. Some lanes are closed. The advisory has been active since June 21, still in effect today.',\n",
    "                'traffic', 1, 1)\n",
    "\n",
    "cursor.execute('''\n",
    "INSERT INTO alerts (timestamp, content, alert_type, is_major, is_active) \n",
    "VALUES (?, ?, ?, ?, ?)\n",
    "''', bart_data)\n",
    "\n",
    "cursor.execute('''\n",
    "INSERT INTO alerts (timestamp, content, alert_type, is_major, is_active) \n",
    "VALUES (?, ?, ?, ?, ?)\n",
    "''', traffic_data)\n",
    "\n",
    "# conn.commit()\n",
    "# print(\"Sample data inserted.\")\n",
    "\n",
    "# # Sample queries\n",
    "# cursor.execute('SELECT * FROM alerts WHERE is_active = 1')\n",
    "# active_alerts = cursor.fetchall()\n",
    "# print(f\"\\nFound {len(active_alerts)} active alerts\")\n",
    "\n",
    "# cursor.execute('SELECT * FROM alerts WHERE alert_type = \"traffic\" AND is_major = 1')\n",
    "# major_traffic = cursor.fetchall()\n",
    "# print(f\"Found {len(major_traffic)} major traffic alerts\")"
   ]
  },
  {
   "cell_type": "code",
   "execution_count": 262,
   "id": "a3251612",
   "metadata": {},
   "outputs": [],
   "source": [
    "# add in both police and city council data"
   ]
  },
  {
   "cell_type": "code",
   "execution_count": 276,
   "id": "6ed184a1",
   "metadata": {},
   "outputs": [],
   "source": [
    "# Insert police data\n",
    "for timestamp, content in final_police_pr:\n",
    "    cursor.execute('''\n",
    "    INSERT INTO alerts (timestamp, content, alert_type, is_major, is_active) \n",
    "    VALUES (?, ?, ?, ?, ?)\n",
    "    ''', (timestamp, content, 'police_report', 0, 1))\n",
    "    \n",
    "# Insert city council entries\n",
    "for timestamp, content in final_city_notes:\n",
    "    cursor.execute('''\n",
    "    INSERT INTO alerts (timestamp, content, alert_type, is_major, is_active) \n",
    "    VALUES (?, ?, ?, ?, ?)\n",
    "    ''', (timestamp, content, 'city_council', 0, 1))\n",
    "\n",
    "conn.commit()"
   ]
  },
  {
   "cell_type": "code",
   "execution_count": 277,
   "id": "c977b31c",
   "metadata": {},
   "outputs": [
    {
     "name": "stdout",
     "output_type": "stream",
     "text": [
      "\n",
      "Alert counts by type:\n",
      "  city_council: 4\n",
      "  police_report: 9\n",
      "  traffic: 1\n",
      "  transit: 1\n"
     ]
    }
   ],
   "source": [
    "cursor.execute('SELECT alert_type, COUNT(*) FROM alerts GROUP BY alert_type')\n",
    "counts = cursor.fetchall()\n",
    "print(\"\\nAlert counts by type:\")\n",
    "for alert_type, count in counts:\n",
    "    print(f\"  {alert_type}: {count}\")"
   ]
  },
  {
   "cell_type": "code",
   "execution_count": 278,
   "id": "cb26eff8",
   "metadata": {},
   "outputs": [],
   "source": [
    "conn.close()\n",
    "# all data added to the database"
   ]
  }
 ],
 "metadata": {
  "kernelspec": {
   "display_name": "Python 3",
   "language": "python",
   "name": "python3"
  },
  "language_info": {
   "codemirror_mode": {
    "name": "ipython",
    "version": 3
   },
   "file_extension": ".py",
   "mimetype": "text/x-python",
   "name": "python",
   "nbconvert_exporter": "python",
   "pygments_lexer": "ipython3",
   "version": "3.8.8"
  }
 },
 "nbformat": 4,
 "nbformat_minor": 5
}
